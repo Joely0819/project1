{
 "cells": [
  {
   "cell_type": "code",
   "execution_count": 11,
   "metadata": {},
   "outputs": [],
   "source": [
    "#created dependencies\n",
    "import requests\n",
    "import json\n",
    "from config import api_key\n",
    "\n",
    "#pretty print\n",
    "from pprint import pprint"
   ]
  },
  {
   "cell_type": "code",
   "execution_count": 12,
   "metadata": {},
   "outputs": [],
   "source": [
    "#added url for OMDB request and API Key\n",
    "url = \"http://www.omdbapi.com/?t=\"\n",
    "api_key = \"&apikey=\" + api_key"
   ]
  },
  {
   "cell_type": "code",
   "execution_count": 13,
   "metadata": {},
   "outputs": [],
   "source": [
    "#getting JSON Response\n",
    "response = requests.get(url + \"Casino Royale\" + api_key)"
   ]
  },
  {
   "cell_type": "code",
   "execution_count": 14,
   "metadata": {},
   "outputs": [
    {
     "name": "stdout",
     "output_type": "stream",
     "text": [
      "{'Actors': 'Daniel Craig, Eva Green, Judi Dench',\n",
      " 'Awards': '27 wins & 44 nominations total',\n",
      " 'BoxOffice': '$167,445,960',\n",
      " 'Country': 'United Kingdom, Czech Republic, United States, Germany, Bahamas',\n",
      " 'DVD': '13 Mar 2007',\n",
      " 'Director': 'Martin Campbell',\n",
      " 'Genre': 'Action, Adventure, Thriller',\n",
      " 'Language': 'English, Serbian, German, Italian, French',\n",
      " 'Metascore': '80',\n",
      " 'Plot': 'After earning 00 status and a licence to kill, secret agent James '\n",
      "         'Bond sets out on his first mission as 007. Bond must defeat a '\n",
      "         'private banker funding terrorists in a high-stakes game of poker at '\n",
      "         'Casino Royale, Montenegro.',\n",
      " 'Poster': 'https://m.media-amazon.com/images/M/MV5BMDI5ZWJhOWItYTlhOC00YWNhLTlkNzctNDU5YTI1M2E1MWZhXkEyXkFqcGdeQXVyNTIzOTk5ODM@._V1_SX300.jpg',\n",
      " 'Production': 'N/A',\n",
      " 'Rated': 'PG-13',\n",
      " 'Ratings': [{'Source': 'Internet Movie Database', 'Value': '8.0/10'},\n",
      "             {'Source': 'Rotten Tomatoes', 'Value': '94%'},\n",
      "             {'Source': 'Metacritic', 'Value': '80/100'}],\n",
      " 'Released': '17 Nov 2006',\n",
      " 'Response': 'True',\n",
      " 'Runtime': '144 min',\n",
      " 'Title': 'Casino Royale',\n",
      " 'Type': 'movie',\n",
      " 'Website': 'N/A',\n",
      " 'Writer': 'Neal Purvis, Robert Wade, Paul Haggis',\n",
      " 'Year': '2006',\n",
      " 'imdbID': 'tt0381061',\n",
      " 'imdbRating': '8.0',\n",
      " 'imdbVotes': '616,745'}\n"
     ]
    }
   ],
   "source": [
    "#Converting the response to JSON, and printing the result.\n",
    "data = response.json()\n",
    "pprint(data)"
   ]
  }
 ],
 "metadata": {
  "kernelspec": {
   "display_name": "Python 3",
   "language": "python",
   "name": "python3"
  },
  "language_info": {
   "codemirror_mode": {
    "name": "ipython",
    "version": 3
   },
   "file_extension": ".py",
   "mimetype": "text/x-python",
   "name": "python",
   "nbconvert_exporter": "python",
   "pygments_lexer": "ipython3",
   "version": "3.8.8"
  }
 },
 "nbformat": 4,
 "nbformat_minor": 2
}
