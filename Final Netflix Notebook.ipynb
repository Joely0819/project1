{
 "cells": [
  {
   "cell_type": "markdown",
   "id": "ce4a38cb",
   "metadata": {},
   "source": [
    "# Introduction: \n",
    "In this challenge, we took a deep dive into the media service and original programming production company, Netflix. Investigating genre, reviews, and rating statistics to gain a better understanding of the company's strategy. "
   ]
  },
  {
   "cell_type": "markdown",
   "id": "70b9b568",
   "metadata": {},
   "source": [
    "# Main Hypothesis\n",
    "If a title located on Netflix is classified under the \"Action\" genre, then it is more likely to have a higher IMDB user rating."
   ]
  },
  {
   "cell_type": "markdown",
   "id": "e7b18119",
   "metadata": {},
   "source": [
    "# Research Question Number 1:\n",
    "Which genre holds the most Netflix titles?\n",
    "- To answer this question, we will first dataset of Netflix titles, clean and group it. "
   ]
  },
  {
   "cell_type": "code",
   "execution_count": 4,
   "id": "21cb5f2e",
   "metadata": {},
   "outputs": [],
   "source": [
    "#import dependencies \n",
    "import os \n",
    "import csv \n",
    "import pandas as pd\n",
    "import numpy as np\n",
    "import matplotlib.pyplot as plt\n",
    "from collections import Counter\n",
    "import json\n",
    "import requests"
   ]
  },
  {
   "cell_type": "code",
   "execution_count": null,
   "id": "d470fe81",
   "metadata": {},
   "outputs": [],
   "source": []
  }
 ],
 "metadata": {
  "kernelspec": {
   "display_name": "Python 3",
   "language": "python",
   "name": "python3"
  },
  "language_info": {
   "codemirror_mode": {
    "name": "ipython",
    "version": 3
   },
   "file_extension": ".py",
   "mimetype": "text/x-python",
   "name": "python",
   "nbconvert_exporter": "python",
   "pygments_lexer": "ipython3",
   "version": "3.8.8"
  }
 },
 "nbformat": 4,
 "nbformat_minor": 5
}
